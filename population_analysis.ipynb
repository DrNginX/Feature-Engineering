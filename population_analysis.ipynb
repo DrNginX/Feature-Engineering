{
 "cells": [
  {
   "cell_type": "markdown",
   "id": "3d4077eb",
   "metadata": {},
   "source": [
    "# INSTALLTION SECTION OF DEPENDENCIES"
   ]
  },
  {
   "cell_type": "markdown",
   "id": "a1f9ae1b",
   "metadata": {},
   "source": [
    "## Libraries section"
   ]
  },
  {
   "cell_type": "code",
   "execution_count": 1,
   "id": "26132d39",
   "metadata": {},
   "outputs": [],
   "source": [
    "import pandas as pd\n",
    "import numpy as np\n",
    "from sklearn.model_selection import train_test_split\n",
    "from sklearn.linear_model import LinearRegression, LogisticRegression\n",
    "from sklearn.preprocessing import OneHotEncoder\n",
    "from sklearn.preprocessing import LabelEncoder\n",
    "from sklearn.model_selection import cross_val_score\n",
    "from sklearn.metrics import r2_score\n",
    "import matplotlib.pyplot as plt\n",
    "import seaborn as sns\n",
    "import scipy.stats as stat\n",
    "from sklearn.preprocessing import PowerTransformer\n",
    "from sklearn.preprocessing import FunctionTransformer"
   ]
  },
  {
   "cell_type": "markdown",
   "id": "d09782d8",
   "metadata": {},
   "source": [
    "## Loading the data "
   ]
  },
  {
   "cell_type": "code",
   "execution_count": 2,
   "id": "df56a433",
   "metadata": {},
   "outputs": [
    {
     "data": {
      "text/html": [
       "<div>\n",
       "<style scoped>\n",
       "    .dataframe tbody tr th:only-of-type {\n",
       "        vertical-align: middle;\n",
       "    }\n",
       "\n",
       "    .dataframe tbody tr th {\n",
       "        vertical-align: top;\n",
       "    }\n",
       "\n",
       "    .dataframe thead th {\n",
       "        text-align: right;\n",
       "    }\n",
       "</style>\n",
       "<table border=\"1\" class=\"dataframe\">\n",
       "  <thead>\n",
       "    <tr style=\"text-align: right;\">\n",
       "      <th></th>\n",
       "      <th>Pop2023</th>\n",
       "      <th>Pop2022</th>\n",
       "      <th>City</th>\n",
       "      <th>Country</th>\n",
       "      <th>Continent</th>\n",
       "      <th>growthRate</th>\n",
       "      <th>rank</th>\n",
       "      <th>Unnamed: 7</th>\n",
       "    </tr>\n",
       "  </thead>\n",
       "  <tbody>\n",
       "    <tr>\n",
       "      <th>0</th>\n",
       "      <td>37194104</td>\n",
       "      <td>37274000</td>\n",
       "      <td>Tokyo</td>\n",
       "      <td>Japan</td>\n",
       "      <td>Asia</td>\n",
       "      <td>-0.0021</td>\n",
       "      <td>1</td>\n",
       "      <td>NaN</td>\n",
       "    </tr>\n",
       "    <tr>\n",
       "      <th>1</th>\n",
       "      <td>32941308</td>\n",
       "      <td>32065760</td>\n",
       "      <td>Delhi</td>\n",
       "      <td>India</td>\n",
       "      <td>Asia</td>\n",
       "      <td>0.0273</td>\n",
       "      <td>2</td>\n",
       "      <td>NaN</td>\n",
       "    </tr>\n",
       "    <tr>\n",
       "      <th>2</th>\n",
       "      <td>29210808</td>\n",
       "      <td>28516904</td>\n",
       "      <td>Shanghai</td>\n",
       "      <td>China</td>\n",
       "      <td>Asia</td>\n",
       "      <td>0.0243</td>\n",
       "      <td>3</td>\n",
       "      <td>NaN</td>\n",
       "    </tr>\n",
       "    <tr>\n",
       "      <th>3</th>\n",
       "      <td>23209616</td>\n",
       "      <td>22478116</td>\n",
       "      <td>Dhaka</td>\n",
       "      <td>Bangladesh</td>\n",
       "      <td>Asia</td>\n",
       "      <td>0.0325</td>\n",
       "      <td>4</td>\n",
       "      <td>NaN</td>\n",
       "    </tr>\n",
       "    <tr>\n",
       "      <th>4</th>\n",
       "      <td>22619736</td>\n",
       "      <td>22429800</td>\n",
       "      <td>Sao Paulo</td>\n",
       "      <td>Brazil</td>\n",
       "      <td>South America</td>\n",
       "      <td>0.0085</td>\n",
       "      <td>5</td>\n",
       "      <td>NaN</td>\n",
       "    </tr>\n",
       "    <tr>\n",
       "      <th>...</th>\n",
       "      <td>...</td>\n",
       "      <td>...</td>\n",
       "      <td>...</td>\n",
       "      <td>...</td>\n",
       "      <td>...</td>\n",
       "      <td>...</td>\n",
       "      <td>...</td>\n",
       "      <td>...</td>\n",
       "    </tr>\n",
       "    <tr>\n",
       "      <th>773</th>\n",
       "      <td>752916</td>\n",
       "      <td>734805</td>\n",
       "      <td>Tongling</td>\n",
       "      <td>China</td>\n",
       "      <td>Asia</td>\n",
       "      <td>0.0246</td>\n",
       "      <td>774</td>\n",
       "      <td>NaN</td>\n",
       "    </tr>\n",
       "    <tr>\n",
       "      <th>774</th>\n",
       "      <td>752744</td>\n",
       "      <td>729109</td>\n",
       "      <td>Tirupati</td>\n",
       "      <td>India</td>\n",
       "      <td>Asia</td>\n",
       "      <td>0.0324</td>\n",
       "      <td>775</td>\n",
       "      <td>NaN</td>\n",
       "    </tr>\n",
       "    <tr>\n",
       "      <th>775</th>\n",
       "      <td>751679</td>\n",
       "      <td>733917</td>\n",
       "      <td>Wuzhou</td>\n",
       "      <td>China</td>\n",
       "      <td>Asia</td>\n",
       "      <td>0.0242</td>\n",
       "      <td>776</td>\n",
       "      <td>NaN</td>\n",
       "    </tr>\n",
       "    <tr>\n",
       "      <th>776</th>\n",
       "      <td>750102</td>\n",
       "      <td>723114</td>\n",
       "      <td>Yuxi</td>\n",
       "      <td>China</td>\n",
       "      <td>Asia</td>\n",
       "      <td>0.0373</td>\n",
       "      <td>777</td>\n",
       "      <td>NaN</td>\n",
       "    </tr>\n",
       "    <tr>\n",
       "      <th>777</th>\n",
       "      <td>750097</td>\n",
       "      <td>733643</td>\n",
       "      <td>Suining Sichuan</td>\n",
       "      <td>China</td>\n",
       "      <td>Asia</td>\n",
       "      <td>0.0224</td>\n",
       "      <td>778</td>\n",
       "      <td>NaN</td>\n",
       "    </tr>\n",
       "  </tbody>\n",
       "</table>\n",
       "<p>778 rows × 8 columns</p>\n",
       "</div>"
      ],
      "text/plain": [
       "      Pop2023   Pop2022             City     Country      Continent   \n",
       "0    37194104  37274000            Tokyo       Japan           Asia  \\\n",
       "1    32941308  32065760            Delhi       India           Asia   \n",
       "2    29210808  28516904         Shanghai       China           Asia   \n",
       "3    23209616  22478116            Dhaka  Bangladesh           Asia   \n",
       "4    22619736  22429800        Sao Paulo      Brazil  South America   \n",
       "..        ...       ...              ...         ...            ...   \n",
       "773    752916    734805         Tongling       China           Asia   \n",
       "774    752744    729109         Tirupati       India           Asia   \n",
       "775    751679    733917           Wuzhou       China           Asia   \n",
       "776    750102    723114             Yuxi       China           Asia   \n",
       "777    750097    733643  Suining Sichuan       China           Asia   \n",
       "\n",
       "     growthRate  rank  Unnamed: 7  \n",
       "0       -0.0021     1         NaN  \n",
       "1        0.0273     2         NaN  \n",
       "2        0.0243     3         NaN  \n",
       "3        0.0325     4         NaN  \n",
       "4        0.0085     5         NaN  \n",
       "..          ...   ...         ...  \n",
       "773      0.0246   774         NaN  \n",
       "774      0.0324   775         NaN  \n",
       "775      0.0242   776         NaN  \n",
       "776      0.0373   777         NaN  \n",
       "777      0.0224   778         NaN  \n",
       "\n",
       "[778 rows x 8 columns]"
      ]
     },
     "execution_count": 2,
     "metadata": {},
     "output_type": "execute_result"
    }
   ],
   "source": [
    "df = pd.read_csv('pp.csv')\n",
    "df"
   ]
  },
  {
   "cell_type": "code",
   "execution_count": 3,
   "id": "16e2863f",
   "metadata": {},
   "outputs": [
    {
     "data": {
      "text/plain": [
       "(778, 8)"
      ]
     },
     "execution_count": 3,
     "metadata": {},
     "output_type": "execute_result"
    }
   ],
   "source": [
    "df.shape"
   ]
  },
  {
   "cell_type": "code",
   "execution_count": 4,
   "id": "37767f56",
   "metadata": {},
   "outputs": [
    {
     "data": {
      "text/plain": [
       "RangeIndex(start=0, stop=778, step=1)"
      ]
     },
     "execution_count": 4,
     "metadata": {},
     "output_type": "execute_result"
    }
   ],
   "source": [
    "df.index"
   ]
  },
  {
   "cell_type": "code",
   "execution_count": 5,
   "id": "519e6ec0",
   "metadata": {},
   "outputs": [
    {
     "data": {
      "text/plain": [
       "Index(['Pop2023', 'Pop2022', 'City', 'Country', 'Continent', 'growthRate',\n",
       "       'rank', 'Unnamed: 7'],\n",
       "      dtype='object')"
      ]
     },
     "execution_count": 5,
     "metadata": {},
     "output_type": "execute_result"
    }
   ],
   "source": [
    "df.columns"
   ]
  },
  {
   "cell_type": "markdown",
   "id": "c8792a19",
   "metadata": {},
   "source": [
    "# "
   ]
  },
  {
   "cell_type": "markdown",
   "id": "c1b3dd7a",
   "metadata": {},
   "source": [
    "## Data Pre-processing section"
   ]
  },
  {
   "cell_type": "code",
   "execution_count": 6,
   "id": "2fe6f937",
   "metadata": {},
   "outputs": [
    {
     "data": {
      "text/html": [
       "<div>\n",
       "<style scoped>\n",
       "    .dataframe tbody tr th:only-of-type {\n",
       "        vertical-align: middle;\n",
       "    }\n",
       "\n",
       "    .dataframe tbody tr th {\n",
       "        vertical-align: top;\n",
       "    }\n",
       "\n",
       "    .dataframe thead th {\n",
       "        text-align: right;\n",
       "    }\n",
       "</style>\n",
       "<table border=\"1\" class=\"dataframe\">\n",
       "  <thead>\n",
       "    <tr style=\"text-align: right;\">\n",
       "      <th></th>\n",
       "      <th>Pop2023</th>\n",
       "      <th>Pop2022</th>\n",
       "      <th>City</th>\n",
       "      <th>Country</th>\n",
       "      <th>Continent</th>\n",
       "      <th>growthRate</th>\n",
       "      <th>rank</th>\n",
       "      <th>Unnamed: 7</th>\n",
       "    </tr>\n",
       "  </thead>\n",
       "  <tbody>\n",
       "    <tr>\n",
       "      <th>0</th>\n",
       "      <td>37194104</td>\n",
       "      <td>37274000</td>\n",
       "      <td>Tokyo</td>\n",
       "      <td>Japan</td>\n",
       "      <td>Asia</td>\n",
       "      <td>-0.0021</td>\n",
       "      <td>1</td>\n",
       "      <td>NaN</td>\n",
       "    </tr>\n",
       "    <tr>\n",
       "      <th>1</th>\n",
       "      <td>32941308</td>\n",
       "      <td>32065760</td>\n",
       "      <td>Delhi</td>\n",
       "      <td>India</td>\n",
       "      <td>Asia</td>\n",
       "      <td>0.0273</td>\n",
       "      <td>2</td>\n",
       "      <td>NaN</td>\n",
       "    </tr>\n",
       "    <tr>\n",
       "      <th>2</th>\n",
       "      <td>29210808</td>\n",
       "      <td>28516904</td>\n",
       "      <td>Shanghai</td>\n",
       "      <td>China</td>\n",
       "      <td>Asia</td>\n",
       "      <td>0.0243</td>\n",
       "      <td>3</td>\n",
       "      <td>NaN</td>\n",
       "    </tr>\n",
       "    <tr>\n",
       "      <th>3</th>\n",
       "      <td>23209616</td>\n",
       "      <td>22478116</td>\n",
       "      <td>Dhaka</td>\n",
       "      <td>Bangladesh</td>\n",
       "      <td>Asia</td>\n",
       "      <td>0.0325</td>\n",
       "      <td>4</td>\n",
       "      <td>NaN</td>\n",
       "    </tr>\n",
       "    <tr>\n",
       "      <th>4</th>\n",
       "      <td>22619736</td>\n",
       "      <td>22429800</td>\n",
       "      <td>Sao Paulo</td>\n",
       "      <td>Brazil</td>\n",
       "      <td>South America</td>\n",
       "      <td>0.0085</td>\n",
       "      <td>5</td>\n",
       "      <td>NaN</td>\n",
       "    </tr>\n",
       "    <tr>\n",
       "      <th>...</th>\n",
       "      <td>...</td>\n",
       "      <td>...</td>\n",
       "      <td>...</td>\n",
       "      <td>...</td>\n",
       "      <td>...</td>\n",
       "      <td>...</td>\n",
       "      <td>...</td>\n",
       "      <td>...</td>\n",
       "    </tr>\n",
       "    <tr>\n",
       "      <th>773</th>\n",
       "      <td>752916</td>\n",
       "      <td>734805</td>\n",
       "      <td>Tongling</td>\n",
       "      <td>China</td>\n",
       "      <td>Asia</td>\n",
       "      <td>0.0246</td>\n",
       "      <td>774</td>\n",
       "      <td>NaN</td>\n",
       "    </tr>\n",
       "    <tr>\n",
       "      <th>774</th>\n",
       "      <td>752744</td>\n",
       "      <td>729109</td>\n",
       "      <td>Tirupati</td>\n",
       "      <td>India</td>\n",
       "      <td>Asia</td>\n",
       "      <td>0.0324</td>\n",
       "      <td>775</td>\n",
       "      <td>NaN</td>\n",
       "    </tr>\n",
       "    <tr>\n",
       "      <th>775</th>\n",
       "      <td>751679</td>\n",
       "      <td>733917</td>\n",
       "      <td>Wuzhou</td>\n",
       "      <td>China</td>\n",
       "      <td>Asia</td>\n",
       "      <td>0.0242</td>\n",
       "      <td>776</td>\n",
       "      <td>NaN</td>\n",
       "    </tr>\n",
       "    <tr>\n",
       "      <th>776</th>\n",
       "      <td>750102</td>\n",
       "      <td>723114</td>\n",
       "      <td>Yuxi</td>\n",
       "      <td>China</td>\n",
       "      <td>Asia</td>\n",
       "      <td>0.0373</td>\n",
       "      <td>777</td>\n",
       "      <td>NaN</td>\n",
       "    </tr>\n",
       "    <tr>\n",
       "      <th>777</th>\n",
       "      <td>750097</td>\n",
       "      <td>733643</td>\n",
       "      <td>Suining Sichuan</td>\n",
       "      <td>China</td>\n",
       "      <td>Asia</td>\n",
       "      <td>0.0224</td>\n",
       "      <td>778</td>\n",
       "      <td>NaN</td>\n",
       "    </tr>\n",
       "  </tbody>\n",
       "</table>\n",
       "<p>778 rows × 8 columns</p>\n",
       "</div>"
      ],
      "text/plain": [
       "      Pop2023   Pop2022             City     Country      Continent   \n",
       "0    37194104  37274000            Tokyo       Japan           Asia  \\\n",
       "1    32941308  32065760            Delhi       India           Asia   \n",
       "2    29210808  28516904         Shanghai       China           Asia   \n",
       "3    23209616  22478116            Dhaka  Bangladesh           Asia   \n",
       "4    22619736  22429800        Sao Paulo      Brazil  South America   \n",
       "..        ...       ...              ...         ...            ...   \n",
       "773    752916    734805         Tongling       China           Asia   \n",
       "774    752744    729109         Tirupati       India           Asia   \n",
       "775    751679    733917           Wuzhou       China           Asia   \n",
       "776    750102    723114             Yuxi       China           Asia   \n",
       "777    750097    733643  Suining Sichuan       China           Asia   \n",
       "\n",
       "     growthRate  rank  Unnamed: 7  \n",
       "0       -0.0021     1         NaN  \n",
       "1        0.0273     2         NaN  \n",
       "2        0.0243     3         NaN  \n",
       "3        0.0325     4         NaN  \n",
       "4        0.0085     5         NaN  \n",
       "..          ...   ...         ...  \n",
       "773      0.0246   774         NaN  \n",
       "774      0.0324   775         NaN  \n",
       "775      0.0242   776         NaN  \n",
       "776      0.0373   777         NaN  \n",
       "777      0.0224   778         NaN  \n",
       "\n",
       "[778 rows x 8 columns]"
      ]
     },
     "execution_count": 6,
     "metadata": {},
     "output_type": "execute_result"
    }
   ],
   "source": [
    "df"
   ]
  },
  {
   "cell_type": "code",
   "execution_count": 7,
   "id": "dc891595",
   "metadata": {},
   "outputs": [],
   "source": [
    "new = df.copy()"
   ]
  },
  {
   "cell_type": "code",
   "execution_count": 8,
   "id": "cece0498",
   "metadata": {
    "scrolled": true
   },
   "outputs": [
    {
     "data": {
      "text/html": [
       "<div>\n",
       "<style scoped>\n",
       "    .dataframe tbody tr th:only-of-type {\n",
       "        vertical-align: middle;\n",
       "    }\n",
       "\n",
       "    .dataframe tbody tr th {\n",
       "        vertical-align: top;\n",
       "    }\n",
       "\n",
       "    .dataframe thead th {\n",
       "        text-align: right;\n",
       "    }\n",
       "</style>\n",
       "<table border=\"1\" class=\"dataframe\">\n",
       "  <thead>\n",
       "    <tr style=\"text-align: right;\">\n",
       "      <th></th>\n",
       "      <th>Pop2023</th>\n",
       "      <th>Pop2022</th>\n",
       "      <th>City</th>\n",
       "      <th>Country</th>\n",
       "      <th>Continent</th>\n",
       "      <th>growthRate</th>\n",
       "      <th>rank</th>\n",
       "      <th>Unnamed: 7</th>\n",
       "    </tr>\n",
       "  </thead>\n",
       "  <tbody>\n",
       "    <tr>\n",
       "      <th>0</th>\n",
       "      <td>37194104</td>\n",
       "      <td>37274000</td>\n",
       "      <td>Tokyo</td>\n",
       "      <td>Japan</td>\n",
       "      <td>Asia</td>\n",
       "      <td>-0.0021</td>\n",
       "      <td>1</td>\n",
       "      <td>NaN</td>\n",
       "    </tr>\n",
       "    <tr>\n",
       "      <th>1</th>\n",
       "      <td>32941308</td>\n",
       "      <td>32065760</td>\n",
       "      <td>Delhi</td>\n",
       "      <td>India</td>\n",
       "      <td>Asia</td>\n",
       "      <td>0.0273</td>\n",
       "      <td>2</td>\n",
       "      <td>NaN</td>\n",
       "    </tr>\n",
       "    <tr>\n",
       "      <th>2</th>\n",
       "      <td>29210808</td>\n",
       "      <td>28516904</td>\n",
       "      <td>Shanghai</td>\n",
       "      <td>China</td>\n",
       "      <td>Asia</td>\n",
       "      <td>0.0243</td>\n",
       "      <td>3</td>\n",
       "      <td>NaN</td>\n",
       "    </tr>\n",
       "    <tr>\n",
       "      <th>3</th>\n",
       "      <td>23209616</td>\n",
       "      <td>22478116</td>\n",
       "      <td>Dhaka</td>\n",
       "      <td>Bangladesh</td>\n",
       "      <td>Asia</td>\n",
       "      <td>0.0325</td>\n",
       "      <td>4</td>\n",
       "      <td>NaN</td>\n",
       "    </tr>\n",
       "    <tr>\n",
       "      <th>4</th>\n",
       "      <td>22619736</td>\n",
       "      <td>22429800</td>\n",
       "      <td>Sao Paulo</td>\n",
       "      <td>Brazil</td>\n",
       "      <td>South America</td>\n",
       "      <td>0.0085</td>\n",
       "      <td>5</td>\n",
       "      <td>NaN</td>\n",
       "    </tr>\n",
       "    <tr>\n",
       "      <th>...</th>\n",
       "      <td>...</td>\n",
       "      <td>...</td>\n",
       "      <td>...</td>\n",
       "      <td>...</td>\n",
       "      <td>...</td>\n",
       "      <td>...</td>\n",
       "      <td>...</td>\n",
       "      <td>...</td>\n",
       "    </tr>\n",
       "    <tr>\n",
       "      <th>773</th>\n",
       "      <td>752916</td>\n",
       "      <td>734805</td>\n",
       "      <td>Tongling</td>\n",
       "      <td>China</td>\n",
       "      <td>Asia</td>\n",
       "      <td>0.0246</td>\n",
       "      <td>774</td>\n",
       "      <td>NaN</td>\n",
       "    </tr>\n",
       "    <tr>\n",
       "      <th>774</th>\n",
       "      <td>752744</td>\n",
       "      <td>729109</td>\n",
       "      <td>Tirupati</td>\n",
       "      <td>India</td>\n",
       "      <td>Asia</td>\n",
       "      <td>0.0324</td>\n",
       "      <td>775</td>\n",
       "      <td>NaN</td>\n",
       "    </tr>\n",
       "    <tr>\n",
       "      <th>775</th>\n",
       "      <td>751679</td>\n",
       "      <td>733917</td>\n",
       "      <td>Wuzhou</td>\n",
       "      <td>China</td>\n",
       "      <td>Asia</td>\n",
       "      <td>0.0242</td>\n",
       "      <td>776</td>\n",
       "      <td>NaN</td>\n",
       "    </tr>\n",
       "    <tr>\n",
       "      <th>776</th>\n",
       "      <td>750102</td>\n",
       "      <td>723114</td>\n",
       "      <td>Yuxi</td>\n",
       "      <td>China</td>\n",
       "      <td>Asia</td>\n",
       "      <td>0.0373</td>\n",
       "      <td>777</td>\n",
       "      <td>NaN</td>\n",
       "    </tr>\n",
       "    <tr>\n",
       "      <th>777</th>\n",
       "      <td>750097</td>\n",
       "      <td>733643</td>\n",
       "      <td>Suining Sichuan</td>\n",
       "      <td>China</td>\n",
       "      <td>Asia</td>\n",
       "      <td>0.0224</td>\n",
       "      <td>778</td>\n",
       "      <td>NaN</td>\n",
       "    </tr>\n",
       "  </tbody>\n",
       "</table>\n",
       "<p>778 rows × 8 columns</p>\n",
       "</div>"
      ],
      "text/plain": [
       "      Pop2023   Pop2022             City     Country      Continent   \n",
       "0    37194104  37274000            Tokyo       Japan           Asia  \\\n",
       "1    32941308  32065760            Delhi       India           Asia   \n",
       "2    29210808  28516904         Shanghai       China           Asia   \n",
       "3    23209616  22478116            Dhaka  Bangladesh           Asia   \n",
       "4    22619736  22429800        Sao Paulo      Brazil  South America   \n",
       "..        ...       ...              ...         ...            ...   \n",
       "773    752916    734805         Tongling       China           Asia   \n",
       "774    752744    729109         Tirupati       India           Asia   \n",
       "775    751679    733917           Wuzhou       China           Asia   \n",
       "776    750102    723114             Yuxi       China           Asia   \n",
       "777    750097    733643  Suining Sichuan       China           Asia   \n",
       "\n",
       "     growthRate  rank  Unnamed: 7  \n",
       "0       -0.0021     1         NaN  \n",
       "1        0.0273     2         NaN  \n",
       "2        0.0243     3         NaN  \n",
       "3        0.0325     4         NaN  \n",
       "4        0.0085     5         NaN  \n",
       "..          ...   ...         ...  \n",
       "773      0.0246   774         NaN  \n",
       "774      0.0324   775         NaN  \n",
       "775      0.0242   776         NaN  \n",
       "776      0.0373   777         NaN  \n",
       "777      0.0224   778         NaN  \n",
       "\n",
       "[778 rows x 8 columns]"
      ]
     },
     "execution_count": 8,
     "metadata": {},
     "output_type": "execute_result"
    }
   ],
   "source": [
    "new"
   ]
  },
  {
   "cell_type": "code",
   "execution_count": 9,
   "id": "d68ed557",
   "metadata": {},
   "outputs": [
    {
     "name": "stdout",
     "output_type": "stream",
     "text": [
      "<class 'pandas.core.frame.DataFrame'>\n",
      "RangeIndex: 778 entries, 0 to 777\n",
      "Data columns (total 8 columns):\n",
      " #   Column      Non-Null Count  Dtype  \n",
      "---  ------      --------------  -----  \n",
      " 0   Pop2023     778 non-null    int64  \n",
      " 1   Pop2022     778 non-null    int64  \n",
      " 2   City        778 non-null    object \n",
      " 3   Country     778 non-null    object \n",
      " 4   Continent   778 non-null    object \n",
      " 5   growthRate  778 non-null    float64\n",
      " 6   rank        778 non-null    int64  \n",
      " 7   Unnamed: 7  12 non-null     float64\n",
      "dtypes: float64(2), int64(3), object(3)\n",
      "memory usage: 48.8+ KB\n"
     ]
    }
   ],
   "source": [
    "new.info()"
   ]
  },
  {
   "cell_type": "code",
   "execution_count": 10,
   "id": "055198cf",
   "metadata": {},
   "outputs": [
    {
     "data": {
      "text/plain": [
       "Pop2023         0\n",
       "Pop2022         0\n",
       "City            0\n",
       "Country         0\n",
       "Continent       0\n",
       "growthRate      0\n",
       "rank            0\n",
       "Unnamed: 7    766\n",
       "dtype: int64"
      ]
     },
     "execution_count": 10,
     "metadata": {},
     "output_type": "execute_result"
    }
   ],
   "source": [
    "new.isnull().sum()"
   ]
  },
  {
   "cell_type": "code",
   "execution_count": 11,
   "id": "8ab9b617",
   "metadata": {},
   "outputs": [
    {
     "data": {
      "text/html": [
       "<div>\n",
       "<style scoped>\n",
       "    .dataframe tbody tr th:only-of-type {\n",
       "        vertical-align: middle;\n",
       "    }\n",
       "\n",
       "    .dataframe tbody tr th {\n",
       "        vertical-align: top;\n",
       "    }\n",
       "\n",
       "    .dataframe thead th {\n",
       "        text-align: right;\n",
       "    }\n",
       "</style>\n",
       "<table border=\"1\" class=\"dataframe\">\n",
       "  <thead>\n",
       "    <tr style=\"text-align: right;\">\n",
       "      <th></th>\n",
       "      <th>Pop2023</th>\n",
       "      <th>Pop2022</th>\n",
       "      <th>growthRate</th>\n",
       "      <th>rank</th>\n",
       "      <th>Unnamed: 7</th>\n",
       "    </tr>\n",
       "  </thead>\n",
       "  <tbody>\n",
       "    <tr>\n",
       "      <th>count</th>\n",
       "      <td>7.780000e+02</td>\n",
       "      <td>7.780000e+02</td>\n",
       "      <td>778.000000</td>\n",
       "      <td>778.000000</td>\n",
       "      <td>12.000000</td>\n",
       "    </tr>\n",
       "    <tr>\n",
       "      <th>mean</th>\n",
       "      <td>2.658927e+06</td>\n",
       "      <td>2.607826e+06</td>\n",
       "      <td>0.020758</td>\n",
       "      <td>389.500000</td>\n",
       "      <td>518.416667</td>\n",
       "    </tr>\n",
       "    <tr>\n",
       "      <th>std</th>\n",
       "      <td>3.700349e+06</td>\n",
       "      <td>3.638665e+06</td>\n",
       "      <td>0.013135</td>\n",
       "      <td>224.733546</td>\n",
       "      <td>153.840211</td>\n",
       "    </tr>\n",
       "    <tr>\n",
       "      <th>min</th>\n",
       "      <td>7.500970e+05</td>\n",
       "      <td>7.231140e+05</td>\n",
       "      <td>-0.034800</td>\n",
       "      <td>1.000000</td>\n",
       "      <td>227.000000</td>\n",
       "    </tr>\n",
       "    <tr>\n",
       "      <th>25%</th>\n",
       "      <td>9.921812e+05</td>\n",
       "      <td>9.657890e+05</td>\n",
       "      <td>0.012625</td>\n",
       "      <td>195.250000</td>\n",
       "      <td>386.500000</td>\n",
       "    </tr>\n",
       "    <tr>\n",
       "      <th>50%</th>\n",
       "      <td>1.381252e+06</td>\n",
       "      <td>1.362342e+06</td>\n",
       "      <td>0.019950</td>\n",
       "      <td>389.500000</td>\n",
       "      <td>603.000000</td>\n",
       "    </tr>\n",
       "    <tr>\n",
       "      <th>75%</th>\n",
       "      <td>2.607130e+06</td>\n",
       "      <td>2.548158e+06</td>\n",
       "      <td>0.028675</td>\n",
       "      <td>583.750000</td>\n",
       "      <td>639.750000</td>\n",
       "    </tr>\n",
       "    <tr>\n",
       "      <th>max</th>\n",
       "      <td>3.719410e+07</td>\n",
       "      <td>3.727400e+07</td>\n",
       "      <td>0.061100</td>\n",
       "      <td>778.000000</td>\n",
       "      <td>676.000000</td>\n",
       "    </tr>\n",
       "  </tbody>\n",
       "</table>\n",
       "</div>"
      ],
      "text/plain": [
       "            Pop2023       Pop2022  growthRate        rank  Unnamed: 7\n",
       "count  7.780000e+02  7.780000e+02  778.000000  778.000000   12.000000\n",
       "mean   2.658927e+06  2.607826e+06    0.020758  389.500000  518.416667\n",
       "std    3.700349e+06  3.638665e+06    0.013135  224.733546  153.840211\n",
       "min    7.500970e+05  7.231140e+05   -0.034800    1.000000  227.000000\n",
       "25%    9.921812e+05  9.657890e+05    0.012625  195.250000  386.500000\n",
       "50%    1.381252e+06  1.362342e+06    0.019950  389.500000  603.000000\n",
       "75%    2.607130e+06  2.548158e+06    0.028675  583.750000  639.750000\n",
       "max    3.719410e+07  3.727400e+07    0.061100  778.000000  676.000000"
      ]
     },
     "execution_count": 11,
     "metadata": {},
     "output_type": "execute_result"
    }
   ],
   "source": [
    "new.describe()"
   ]
  },
  {
   "cell_type": "code",
   "execution_count": 12,
   "id": "187ee207",
   "metadata": {},
   "outputs": [
    {
     "data": {
      "text/plain": [
       "Pop2023         0\n",
       "Pop2022         0\n",
       "City            0\n",
       "Country         0\n",
       "Continent       0\n",
       "growthRate      0\n",
       "rank            0\n",
       "Unnamed: 7    766\n",
       "dtype: int64"
      ]
     },
     "execution_count": 12,
     "metadata": {},
     "output_type": "execute_result"
    }
   ],
   "source": [
    "new.isna().sum()"
   ]
  },
  {
   "cell_type": "code",
   "execution_count": 13,
   "id": "53ba4306",
   "metadata": {},
   "outputs": [],
   "source": [
    "# Droping whole null coulmn of the dataset which is 'Unnamed: 7'\n",
    "new = new.drop(columns='Unnamed: 7')"
   ]
  },
  {
   "cell_type": "code",
   "execution_count": 14,
   "id": "80ec7d06",
   "metadata": {},
   "outputs": [
    {
     "data": {
      "text/plain": [
       "Pop2023       0\n",
       "Pop2022       0\n",
       "City          0\n",
       "Country       0\n",
       "Continent     0\n",
       "growthRate    0\n",
       "rank          0\n",
       "dtype: int64"
      ]
     },
     "execution_count": 14,
     "metadata": {},
     "output_type": "execute_result"
    }
   ],
   "source": [
    "new.isnull().sum()"
   ]
  },
  {
   "cell_type": "code",
   "execution_count": 15,
   "id": "af7de8d9",
   "metadata": {},
   "outputs": [
    {
     "data": {
      "text/html": [
       "<div>\n",
       "<style scoped>\n",
       "    .dataframe tbody tr th:only-of-type {\n",
       "        vertical-align: middle;\n",
       "    }\n",
       "\n",
       "    .dataframe tbody tr th {\n",
       "        vertical-align: top;\n",
       "    }\n",
       "\n",
       "    .dataframe thead th {\n",
       "        text-align: right;\n",
       "    }\n",
       "</style>\n",
       "<table border=\"1\" class=\"dataframe\">\n",
       "  <thead>\n",
       "    <tr style=\"text-align: right;\">\n",
       "      <th></th>\n",
       "      <th>Pop2023</th>\n",
       "      <th>Pop2022</th>\n",
       "      <th>growthRate</th>\n",
       "      <th>rank</th>\n",
       "    </tr>\n",
       "  </thead>\n",
       "  <tbody>\n",
       "    <tr>\n",
       "      <th>count</th>\n",
       "      <td>7.780000e+02</td>\n",
       "      <td>7.780000e+02</td>\n",
       "      <td>778.000000</td>\n",
       "      <td>778.000000</td>\n",
       "    </tr>\n",
       "    <tr>\n",
       "      <th>mean</th>\n",
       "      <td>2.658927e+06</td>\n",
       "      <td>2.607826e+06</td>\n",
       "      <td>0.020758</td>\n",
       "      <td>389.500000</td>\n",
       "    </tr>\n",
       "    <tr>\n",
       "      <th>std</th>\n",
       "      <td>3.700349e+06</td>\n",
       "      <td>3.638665e+06</td>\n",
       "      <td>0.013135</td>\n",
       "      <td>224.733546</td>\n",
       "    </tr>\n",
       "    <tr>\n",
       "      <th>min</th>\n",
       "      <td>7.500970e+05</td>\n",
       "      <td>7.231140e+05</td>\n",
       "      <td>-0.034800</td>\n",
       "      <td>1.000000</td>\n",
       "    </tr>\n",
       "    <tr>\n",
       "      <th>25%</th>\n",
       "      <td>9.921812e+05</td>\n",
       "      <td>9.657890e+05</td>\n",
       "      <td>0.012625</td>\n",
       "      <td>195.250000</td>\n",
       "    </tr>\n",
       "    <tr>\n",
       "      <th>50%</th>\n",
       "      <td>1.381252e+06</td>\n",
       "      <td>1.362342e+06</td>\n",
       "      <td>0.019950</td>\n",
       "      <td>389.500000</td>\n",
       "    </tr>\n",
       "    <tr>\n",
       "      <th>75%</th>\n",
       "      <td>2.607130e+06</td>\n",
       "      <td>2.548158e+06</td>\n",
       "      <td>0.028675</td>\n",
       "      <td>583.750000</td>\n",
       "    </tr>\n",
       "    <tr>\n",
       "      <th>max</th>\n",
       "      <td>3.719410e+07</td>\n",
       "      <td>3.727400e+07</td>\n",
       "      <td>0.061100</td>\n",
       "      <td>778.000000</td>\n",
       "    </tr>\n",
       "  </tbody>\n",
       "</table>\n",
       "</div>"
      ],
      "text/plain": [
       "            Pop2023       Pop2022  growthRate        rank\n",
       "count  7.780000e+02  7.780000e+02  778.000000  778.000000\n",
       "mean   2.658927e+06  2.607826e+06    0.020758  389.500000\n",
       "std    3.700349e+06  3.638665e+06    0.013135  224.733546\n",
       "min    7.500970e+05  7.231140e+05   -0.034800    1.000000\n",
       "25%    9.921812e+05  9.657890e+05    0.012625  195.250000\n",
       "50%    1.381252e+06  1.362342e+06    0.019950  389.500000\n",
       "75%    2.607130e+06  2.548158e+06    0.028675  583.750000\n",
       "max    3.719410e+07  3.727400e+07    0.061100  778.000000"
      ]
     },
     "execution_count": 15,
     "metadata": {},
     "output_type": "execute_result"
    }
   ],
   "source": [
    "# For re-checking\n",
    "new.describe()"
   ]
  },
  {
   "cell_type": "code",
   "execution_count": 16,
   "id": "9148a550",
   "metadata": {},
   "outputs": [
    {
     "data": {
      "text/plain": [
       "(778, 7)"
      ]
     },
     "execution_count": 16,
     "metadata": {},
     "output_type": "execute_result"
    }
   ],
   "source": [
    "new.shape"
   ]
  },
  {
   "cell_type": "code",
   "execution_count": 17,
   "id": "6af1974b",
   "metadata": {},
   "outputs": [
    {
     "data": {
      "image/png": "[encoded data removed]",
      "text/plain": [
       "<Figure size 2000x2000 with 4 Axes>"
      ]
     },
     "metadata": {},
     "output_type": "display_data"
    }
   ],
   "source": [
    "%matplotlib inline\n",
    "new.hist(bins = 50, figsize=(20, 20))\n",
    "plt.show()"
   ]
  },
  {
   "cell_type": "code",
   "execution_count": 18,
   "id": "a72255e6",
   "metadata": {},
   "outputs": [
    {
     "data": {
      "text/plain": [
       "Index(['Pop2023', 'Pop2022', 'City', 'Country', 'Continent', 'growthRate',\n",
       "       'rank'],\n",
       "      dtype='object')"
      ]
     },
     "execution_count": 18,
     "metadata": {},
     "output_type": "execute_result"
    }
   ],
   "source": [
    "new.columns"
   ]
  },
  {
   "cell_type": "code",
   "execution_count": 19,
   "id": "22cb7429",
   "metadata": {},
   "outputs": [],
   "source": [
    "sample = new.iloc[:, [0, 1, 5, 6]]"
   ]
  },
  {
   "cell_type": "code",
   "execution_count": 20,
   "id": "83c6228f",
   "metadata": {},
   "outputs": [
    {
     "data": {
      "text/html": [
       "<div>\n",
       "<style scoped>\n",
       "    .dataframe tbody tr th:only-of-type {\n",
       "        vertical-align: middle;\n",
       "    }\n",
       "\n",
       "    .dataframe tbody tr th {\n",
       "        vertical-align: top;\n",
       "    }\n",
       "\n",
       "    .dataframe thead th {\n",
       "        text-align: right;\n",
       "    }\n",
       "</style>\n",
       "<table border=\"1\" class=\"dataframe\">\n",
       "  <thead>\n",
       "    <tr style=\"text-align: right;\">\n",
       "      <th></th>\n",
       "      <th>Pop2023</th>\n",
       "      <th>Pop2022</th>\n",
       "      <th>growthRate</th>\n",
       "      <th>rank</th>\n",
       "    </tr>\n",
       "  </thead>\n",
       "  <tbody>\n",
       "    <tr>\n",
       "      <th>0</th>\n",
       "      <td>37194104</td>\n",
       "      <td>37274000</td>\n",
       "      <td>-0.0021</td>\n",
       "      <td>1</td>\n",
       "    </tr>\n",
       "    <tr>\n",
       "      <th>1</th>\n",
       "      <td>32941308</td>\n",
       "      <td>32065760</td>\n",
       "      <td>0.0273</td>\n",
       "      <td>2</td>\n",
       "    </tr>\n",
       "    <tr>\n",
       "      <th>2</th>\n",
       "      <td>29210808</td>\n",
       "      <td>28516904</td>\n",
       "      <td>0.0243</td>\n",
       "      <td>3</td>\n",
       "    </tr>\n",
       "    <tr>\n",
       "      <th>3</th>\n",
       "      <td>23209616</td>\n",
       "      <td>22478116</td>\n",
       "      <td>0.0325</td>\n",
       "      <td>4</td>\n",
       "    </tr>\n",
       "    <tr>\n",
       "      <th>4</th>\n",
       "      <td>22619736</td>\n",
       "      <td>22429800</td>\n",
       "      <td>0.0085</td>\n",
       "      <td>5</td>\n",
       "    </tr>\n",
       "    <tr>\n",
       "      <th>...</th>\n",
       "      <td>...</td>\n",
       "      <td>...</td>\n",
       "      <td>...</td>\n",
       "      <td>...</td>\n",
       "    </tr>\n",
       "    <tr>\n",
       "      <th>773</th>\n",
       "      <td>752916</td>\n",
       "      <td>734805</td>\n",
       "      <td>0.0246</td>\n",
       "      <td>774</td>\n",
       "    </tr>\n",
       "    <tr>\n",
       "      <th>774</th>\n",
       "      <td>752744</td>\n",
       "      <td>729109</td>\n",
       "      <td>0.0324</td>\n",
       "      <td>775</td>\n",
       "    </tr>\n",
       "    <tr>\n",
       "      <th>775</th>\n",
       "      <td>751679</td>\n",
       "      <td>733917</td>\n",
       "      <td>0.0242</td>\n",
       "      <td>776</td>\n",
       "    </tr>\n",
       "    <tr>\n",
       "      <th>776</th>\n",
       "      <td>750102</td>\n",
       "      <td>723114</td>\n",
       "      <td>0.0373</td>\n",
       "      <td>777</td>\n",
       "    </tr>\n",
       "    <tr>\n",
       "      <th>777</th>\n",
       "      <td>750097</td>\n",
       "      <td>733643</td>\n",
       "      <td>0.0224</td>\n",
       "      <td>778</td>\n",
       "    </tr>\n",
       "  </tbody>\n",
       "</table>\n",
       "<p>778 rows × 4 columns</p>\n",
       "</div>"
      ],
      "text/plain": [
       "      Pop2023   Pop2022  growthRate  rank\n",
       "0    37194104  37274000     -0.0021     1\n",
       "1    32941308  32065760      0.0273     2\n",
       "2    29210808  28516904      0.0243     3\n",
       "3    23209616  22478116      0.0325     4\n",
       "4    22619736  22429800      0.0085     5\n",
       "..        ...       ...         ...   ...\n",
       "773    752916    734805      0.0246   774\n",
       "774    752744    729109      0.0324   775\n",
       "775    751679    733917      0.0242   776\n",
       "776    750102    723114      0.0373   777\n",
       "777    750097    733643      0.0224   778\n",
       "\n",
       "[778 rows x 4 columns]"
      ]
     },
     "execution_count": 20,
     "metadata": {},
     "output_type": "execute_result"
    }
   ],
   "source": [
    "sample"
   ]
  },
  {
   "cell_type": "code",
   "execution_count": 21,
   "id": "802c84ac",
   "metadata": {
    "scrolled": true
   },
   "outputs": [
    {
     "data": {
      "text/html": [
       "<div>\n",
       "<style scoped>\n",
       "    .dataframe tbody tr th:only-of-type {\n",
       "        vertical-align: middle;\n",
       "    }\n",
       "\n",
       "    .dataframe tbody tr th {\n",
       "        vertical-align: top;\n",
       "    }\n",
       "\n",
       "    .dataframe thead th {\n",
       "        text-align: right;\n",
       "    }\n",
       "</style>\n",
       "<table border=\"1\" class=\"dataframe\">\n",
       "  <thead>\n",
       "    <tr style=\"text-align: right;\">\n",
       "      <th></th>\n",
       "      <th>Pop2023</th>\n",
       "      <th>Pop2022</th>\n",
       "      <th>growthRate</th>\n",
       "      <th>rank</th>\n",
       "    </tr>\n",
       "  </thead>\n",
       "  <tbody>\n",
       "    <tr>\n",
       "      <th>Pop2023</th>\n",
       "      <td>1.000000</td>\n",
       "      <td>0.999884</td>\n",
       "      <td>-0.054863</td>\n",
       "      <td>-0.618718</td>\n",
       "    </tr>\n",
       "    <tr>\n",
       "      <th>Pop2022</th>\n",
       "      <td>0.999884</td>\n",
       "      <td>1.000000</td>\n",
       "      <td>-0.063579</td>\n",
       "      <td>-0.617801</td>\n",
       "    </tr>\n",
       "    <tr>\n",
       "      <th>growthRate</th>\n",
       "      <td>-0.054863</td>\n",
       "      <td>-0.063579</td>\n",
       "      <td>1.000000</td>\n",
       "      <td>0.071437</td>\n",
       "    </tr>\n",
       "    <tr>\n",
       "      <th>rank</th>\n",
       "      <td>-0.618718</td>\n",
       "      <td>-0.617801</td>\n",
       "      <td>0.071437</td>\n",
       "      <td>1.000000</td>\n",
       "    </tr>\n",
       "  </tbody>\n",
       "</table>\n",
       "</div>"
      ],
      "text/plain": [
       "             Pop2023   Pop2022  growthRate      rank\n",
       "Pop2023     1.000000  0.999884   -0.054863 -0.618718\n",
       "Pop2022     0.999884  1.000000   -0.063579 -0.617801\n",
       "growthRate -0.054863 -0.063579    1.000000  0.071437\n",
       "rank       -0.618718 -0.617801    0.071437  1.000000"
      ]
     },
     "execution_count": 21,
     "metadata": {},
     "output_type": "execute_result"
    }
   ],
   "source": [
    "sample.corr()"
   ]
  },
  {
   "cell_type": "code",
   "execution_count": 22,
   "id": "385fdaa3",
   "metadata": {},
   "outputs": [],
   "source": [
    "corr_matrix = sample.corr()"
   ]
  },
  {
   "cell_type": "code",
   "execution_count": 23,
   "id": "d251988e",
   "metadata": {},
   "outputs": [
    {
     "data": {
      "text/plain": [
       "rank         -0.617801\n",
       "growthRate   -0.063579\n",
       "Pop2023       0.999884\n",
       "Pop2022       1.000000\n",
       "Name: Pop2022, dtype: float64"
      ]
     },
     "execution_count": 23,
     "metadata": {},
     "output_type": "execute_result"
    }
   ],
   "source": [
    "corr_matrix[\"Pop2022\"].sort_values(ascending = True)"
   ]
  },
  {
   "cell_type": "markdown",
   "id": "e685897f",
   "metadata": {},
   "source": [
    "## Feature Selection section"
   ]
  },
  {
   "cell_type": "code",
   "execution_count": 24,
   "id": "08531f06",
   "metadata": {},
   "outputs": [],
   "source": [
    "data = new.copy()"
   ]
  },
  {
   "cell_type": "code",
   "execution_count": 25,
   "id": "ebcdf054",
   "metadata": {},
   "outputs": [
    {
     "data": {
      "text/html": [
       "<div>\n",
       "<style scoped>\n",
       "    .dataframe tbody tr th:only-of-type {\n",
       "        vertical-align: middle;\n",
       "    }\n",
       "\n",
       "    .dataframe tbody tr th {\n",
       "        vertical-align: top;\n",
       "    }\n",
       "\n",
       "    .dataframe thead th {\n",
       "        text-align: right;\n",
       "    }\n",
       "</style>\n",
       "<table border=\"1\" class=\"dataframe\">\n",
       "  <thead>\n",
       "    <tr style=\"text-align: right;\">\n",
       "      <th></th>\n",
       "      <th>Pop2023</th>\n",
       "      <th>Pop2022</th>\n",
       "      <th>City</th>\n",
       "      <th>Country</th>\n",
       "      <th>Continent</th>\n",
       "      <th>growthRate</th>\n",
       "      <th>rank</th>\n",
       "    </tr>\n",
       "  </thead>\n",
       "  <tbody>\n",
       "    <tr>\n",
       "      <th>0</th>\n",
       "      <td>37194104</td>\n",
       "      <td>37274000</td>\n",
       "      <td>Tokyo</td>\n",
       "      <td>Japan</td>\n",
       "      <td>Asia</td>\n",
       "      <td>-0.0021</td>\n",
       "      <td>1</td>\n",
       "    </tr>\n",
       "    <tr>\n",
       "      <th>1</th>\n",
       "      <td>32941308</td>\n",
       "      <td>32065760</td>\n",
       "      <td>Delhi</td>\n",
       "      <td>India</td>\n",
       "      <td>Asia</td>\n",
       "      <td>0.0273</td>\n",
       "      <td>2</td>\n",
       "    </tr>\n",
       "    <tr>\n",
       "      <th>2</th>\n",
       "      <td>29210808</td>\n",
       "      <td>28516904</td>\n",
       "      <td>Shanghai</td>\n",
       "      <td>China</td>\n",
       "      <td>Asia</td>\n",
       "      <td>0.0243</td>\n",
       "      <td>3</td>\n",
       "    </tr>\n",
       "    <tr>\n",
       "      <th>3</th>\n",
       "      <td>23209616</td>\n",
       "      <td>22478116</td>\n",
       "      <td>Dhaka</td>\n",
       "      <td>Bangladesh</td>\n",
       "      <td>Asia</td>\n",
       "      <td>0.0325</td>\n",
       "      <td>4</td>\n",
       "    </tr>\n",
       "    <tr>\n",
       "      <th>4</th>\n",
       "      <td>22619736</td>\n",
       "      <td>22429800</td>\n",
       "      <td>Sao Paulo</td>\n",
       "      <td>Brazil</td>\n",
       "      <td>South America</td>\n",
       "      <td>0.0085</td>\n",
       "      <td>5</td>\n",
       "    </tr>\n",
       "    <tr>\n",
       "      <th>...</th>\n",
       "      <td>...</td>\n",
       "      <td>...</td>\n",
       "      <td>...</td>\n",
       "      <td>...</td>\n",
       "      <td>...</td>\n",
       "      <td>...</td>\n",
       "      <td>...</td>\n",
       "    </tr>\n",
       "    <tr>\n",
       "      <th>773</th>\n",
       "      <td>752916</td>\n",
       "      <td>734805</td>\n",
       "      <td>Tongling</td>\n",
       "      <td>China</td>\n",
       "      <td>Asia</td>\n",
       "      <td>0.0246</td>\n",
       "      <td>774</td>\n",
       "    </tr>\n",
       "    <tr>\n",
       "      <th>774</th>\n",
       "      <td>752744</td>\n",
       "      <td>729109</td>\n",
       "      <td>Tirupati</td>\n",
       "      <td>India</td>\n",
       "      <td>Asia</td>\n",
       "      <td>0.0324</td>\n",
       "      <td>775</td>\n",
       "    </tr>\n",
       "    <tr>\n",
       "      <th>775</th>\n",
       "      <td>751679</td>\n",
       "      <td>733917</td>\n",
       "      <td>Wuzhou</td>\n",
       "      <td>China</td>\n",
       "      <td>Asia</td>\n",
       "      <td>0.0242</td>\n",
       "      <td>776</td>\n",
       "    </tr>\n",
       "    <tr>\n",
       "      <th>776</th>\n",
       "      <td>750102</td>\n",
       "      <td>723114</td>\n",
       "      <td>Yuxi</td>\n",
       "      <td>China</td>\n",
       "      <td>Asia</td>\n",
       "      <td>0.0373</td>\n",
       "      <td>777</td>\n",
       "    </tr>\n",
       "    <tr>\n",
       "      <th>777</th>\n",
       "      <td>750097</td>\n",
       "      <td>733643</td>\n",
       "      <td>Suining Sichuan</td>\n",
       "      <td>China</td>\n",
       "      <td>Asia</td>\n",
       "      <td>0.0224</td>\n",
       "      <td>778</td>\n",
       "    </tr>\n",
       "  </tbody>\n",
       "</table>\n",
       "<p>778 rows × 7 columns</p>\n",
       "</div>"
      ],
      "text/plain": [
       "      Pop2023   Pop2022             City     Country      Continent   \n",
       "0    37194104  37274000            Tokyo       Japan           Asia  \\\n",
       "1    32941308  32065760            Delhi       India           Asia   \n",
       "2    29210808  28516904         Shanghai       China           Asia   \n",
       "3    23209616  22478116            Dhaka  Bangladesh           Asia   \n",
       "4    22619736  22429800        Sao Paulo      Brazil  South America   \n",
       "..        ...       ...              ...         ...            ...   \n",
       "773    752916    734805         Tongling       China           Asia   \n",
       "774    752744    729109         Tirupati       India           Asia   \n",
       "775    751679    733917           Wuzhou       China           Asia   \n",
       "776    750102    723114             Yuxi       China           Asia   \n",
       "777    750097    733643  Suining Sichuan       China           Asia   \n",
       "\n",
       "     growthRate  rank  \n",
       "0       -0.0021     1  \n",
       "1        0.0273     2  \n",
       "2        0.0243     3  \n",
       "3        0.0325     4  \n",
       "4        0.0085     5  \n",
       "..          ...   ...  \n",
       "773      0.0246   774  \n",
       "774      0.0324   775  \n",
       "775      0.0242   776  \n",
       "776      0.0373   777  \n",
       "777      0.0224   778  \n",
       "\n",
       "[778 rows x 7 columns]"
      ]
     },
     "execution_count": 25,
     "metadata": {},
     "output_type": "execute_result"
    }
   ],
   "source": [
    "data"
   ]
  },
  {
   "cell_type": "code",
   "execution_count": 26,
   "id": "717d4841",
   "metadata": {},
   "outputs": [
    {
     "data": {
      "text/plain": [
       "Index(['Pop2023', 'Pop2022', 'City', 'Country', 'Continent', 'growthRate',\n",
       "       'rank'],\n",
       "      dtype='object')"
      ]
     },
     "execution_count": 26,
     "metadata": {},
     "output_type": "execute_result"
    }
   ],
   "source": [
    "data.columns"
   ]
  },
  {
   "cell_type": "code",
   "execution_count": 27,
   "id": "832ad3b2",
   "metadata": {},
   "outputs": [],
   "source": [
    "X = data.drop(columns=['City', 'Country', 'growthRate', 'Continent', 'rank',])\n",
    "y = data.iloc[:, -1]"
   ]
  },
  {
   "cell_type": "code",
   "execution_count": 28,
   "id": "307611e8",
   "metadata": {},
   "outputs": [
    {
     "data": {
      "text/html": [
       "<div>\n",
       "<style scoped>\n",
       "    .dataframe tbody tr th:only-of-type {\n",
       "        vertical-align: middle;\n",
       "    }\n",
       "\n",
       "    .dataframe tbody tr th {\n",
       "        vertical-align: top;\n",
       "    }\n",
       "\n",
       "    .dataframe thead th {\n",
       "        text-align: right;\n",
       "    }\n",
       "</style>\n",
       "<table border=\"1\" class=\"dataframe\">\n",
       "  <thead>\n",
       "    <tr style=\"text-align: right;\">\n",
       "      <th></th>\n",
       "      <th>Pop2023</th>\n",
       "      <th>Pop2022</th>\n",
       "    </tr>\n",
       "  </thead>\n",
       "  <tbody>\n",
       "    <tr>\n",
       "      <th>0</th>\n",
       "      <td>37194104</td>\n",
       "      <td>37274000</td>\n",
       "    </tr>\n",
       "    <tr>\n",
       "      <th>1</th>\n",
       "      <td>32941308</td>\n",
       "      <td>32065760</td>\n",
       "    </tr>\n",
       "    <tr>\n",
       "      <th>2</th>\n",
       "      <td>29210808</td>\n",
       "      <td>28516904</td>\n",
       "    </tr>\n",
       "    <tr>\n",
       "      <th>3</th>\n",
       "      <td>23209616</td>\n",
       "      <td>22478116</td>\n",
       "    </tr>\n",
       "    <tr>\n",
       "      <th>4</th>\n",
       "      <td>22619736</td>\n",
       "      <td>22429800</td>\n",
       "    </tr>\n",
       "    <tr>\n",
       "      <th>...</th>\n",
       "      <td>...</td>\n",
       "      <td>...</td>\n",
       "    </tr>\n",
       "    <tr>\n",
       "      <th>773</th>\n",
       "      <td>752916</td>\n",
       "      <td>734805</td>\n",
       "    </tr>\n",
       "    <tr>\n",
       "      <th>774</th>\n",
       "      <td>752744</td>\n",
       "      <td>729109</td>\n",
       "    </tr>\n",
       "    <tr>\n",
       "      <th>775</th>\n",
       "      <td>751679</td>\n",
       "      <td>733917</td>\n",
       "    </tr>\n",
       "    <tr>\n",
       "      <th>776</th>\n",
       "      <td>750102</td>\n",
       "      <td>723114</td>\n",
       "    </tr>\n",
       "    <tr>\n",
       "      <th>777</th>\n",
       "      <td>750097</td>\n",
       "      <td>733643</td>\n",
       "    </tr>\n",
       "  </tbody>\n",
       "</table>\n",
       "<p>778 rows × 2 columns</p>\n",
       "</div>"
      ],
      "text/plain": [
       "      Pop2023   Pop2022\n",
       "0    37194104  37274000\n",
       "1    32941308  32065760\n",
       "2    29210808  28516904\n",
       "3    23209616  22478116\n",
       "4    22619736  22429800\n",
       "..        ...       ...\n",
       "773    752916    734805\n",
       "774    752744    729109\n",
       "775    751679    733917\n",
       "776    750102    723114\n",
       "777    750097    733643\n",
       "\n",
       "[778 rows x 2 columns]"
      ]
     },
     "execution_count": 28,
     "metadata": {},
     "output_type": "execute_result"
    }
   ],
   "source": [
    "X"
   ]
  },
  {
   "cell_type": "code",
   "execution_count": 29,
   "id": "df03be5e",
   "metadata": {},
   "outputs": [
    {
     "data": {
      "text/plain": [
       "0        1\n",
       "1        2\n",
       "2        3\n",
       "3        4\n",
       "4        5\n",
       "      ... \n",
       "773    774\n",
       "774    775\n",
       "775    776\n",
       "776    777\n",
       "777    778\n",
       "Name: rank, Length: 778, dtype: int64"
      ]
     },
     "execution_count": 29,
     "metadata": {},
     "output_type": "execute_result"
    }
   ],
   "source": [
    "y"
   ]
  },
  {
   "cell_type": "markdown",
   "id": "1aa4a8dd",
   "metadata": {},
   "source": [
    "## Dataset Spliting section"
   ]
  },
  {
   "cell_type": "code",
   "execution_count": 30,
   "id": "3d9a7503",
   "metadata": {},
   "outputs": [],
   "source": [
    "X_train, X_test, y_train, y_test = train_test_split(X, y, test_size= 0.2, random_state= 100)\n"
   ]
  },
  {
   "cell_type": "markdown",
   "id": "dfe4437d",
   "metadata": {},
   "source": [
    "## Load, Fit and Predict section"
   ]
  },
  {
   "cell_type": "code",
   "execution_count": 31,
   "id": "f970f84c",
   "metadata": {},
   "outputs": [],
   "source": [
    "model = LinearRegression()\n",
    "model.fit(X_train, y_train)\n",
    "Y_pred = model.predict(X_test)\n",
    "r2_scores = r2_score(y_test, Y_pred)"
   ]
  },
  {
   "cell_type": "code",
   "execution_count": 32,
   "id": "c2f84291",
   "metadata": {},
   "outputs": [
    {
     "data": {
      "text/plain": [
       "0.4044303109182038"
      ]
     },
     "execution_count": 32,
     "metadata": {},
     "output_type": "execute_result"
    }
   ],
   "source": [
    "r2_scores"
   ]
  },
  {
   "cell_type": "code",
   "execution_count": 33,
   "id": "298daa0c",
   "metadata": {},
   "outputs": [
    {
     "data": {
      "text/plain": [
       "-476.0465990505827"
      ]
     },
     "execution_count": 33,
     "metadata": {},
     "output_type": "execute_result"
    }
   ],
   "source": [
    "# Cross validation 10X\n",
    "lr = LinearRegression()\n",
    "np.mean(cross_val_score(lr, X, y, scoring='r2'))"
   ]
  },
  {
   "cell_type": "code",
   "execution_count": 34,
   "id": "e849f3ea",
   "metadata": {
    "scrolled": true
   },
   "outputs": [
    {
     "data": {
      "image/png": "[encoded data removed]",
      "text/plain": [
       "<Figure size 1400x400 with 1 Axes>"
      ]
     },
     "metadata": {},
     "output_type": "display_data"
    },
    {
     "data": {
      "image/png": "[encoded data removed]",
      "text/plain": [
       "<Figure size 1400x400 with 1 Axes>"
      ]
     },
     "metadata": {},
     "output_type": "display_data"
    }
   ],
   "source": [
    "# QQplot for checking the normal Distributions\n",
    "for col in X_train.columns:\n",
    "    plt.figure(figsize=(14, 4))\n",
    "    stat.probplot(X_train[col], dist=\"norm\", plot=plt)\n",
    "    plt.title(col)\n",
    "    plt.show()\n",
    "    "
   ]
  },
  {
   "cell_type": "markdown",
   "id": "ae50b12a",
   "metadata": {},
   "source": [
    "## Power Transformation (method = \"Box-Cox\")"
   ]
  },
  {
   "cell_type": "code",
   "execution_count": 36,
   "id": "546dfca1",
   "metadata": {},
   "outputs": [
    {
     "data": {
      "text/html": [
       "<div>\n",
       "<style scoped>\n",
       "    .dataframe tbody tr th:only-of-type {\n",
       "        vertical-align: middle;\n",
       "    }\n",
       "\n",
       "    .dataframe tbody tr th {\n",
       "        vertical-align: top;\n",
       "    }\n",
       "\n",
       "    .dataframe thead th {\n",
       "        text-align: right;\n",
       "    }\n",
       "</style>\n",
       "<table border=\"1\" class=\"dataframe\">\n",
       "  <thead>\n",
       "    <tr style=\"text-align: right;\">\n",
       "      <th></th>\n",
       "      <th>col</th>\n",
       "      <th>pwtransform</th>\n",
       "    </tr>\n",
       "  </thead>\n",
       "  <tbody>\n",
       "    <tr>\n",
       "      <th>0</th>\n",
       "      <td>Pop2023</td>\n",
       "      <td>-0.748243</td>\n",
       "    </tr>\n",
       "    <tr>\n",
       "      <th>1</th>\n",
       "      <td>Pop2022</td>\n",
       "      <td>-0.743211</td>\n",
       "    </tr>\n",
       "  </tbody>\n",
       "</table>\n",
       "</div>"
      ],
      "text/plain": [
       "       col  pwtransform\n",
       "0  Pop2023    -0.748243\n",
       "1  Pop2022    -0.743211"
      ]
     },
     "execution_count": 36,
     "metadata": {},
     "output_type": "execute_result"
    }
   ],
   "source": [
    "pt = PowerTransformer(method='box-cox')\n",
    "X_train_transformed = pt.fit_transform(X_train)\n",
    "X_test_transformed = pt.fit_transform(X_test)\n",
    "pd.DataFrame({'col':X_train.columns, 'pwtransform':pt.lambdas_})"
   ]
  },
  {
   "cell_type": "code",
   "execution_count": 37,
   "id": "261d5d37",
   "metadata": {},
   "outputs": [
    {
     "data": {
      "text/plain": [
       "0.9830637085677326"
      ]
     },
     "execution_count": 37,
     "metadata": {},
     "output_type": "execute_result"
    }
   ],
   "source": [
    "lr = LinearRegression()\n",
    "lr.fit(X_train_transformed, y_train)\n",
    "y_pred1 = lr.predict(X_test_transformed)\n",
    "r2_scores_trans = r2_score(y_test, y_pred1)\n",
    "r2_scores_trans"
   ]
  },
  {
   "cell_type": "code",
   "execution_count": 38,
   "id": "4afadc33",
   "metadata": {},
   "outputs": [
    {
     "data": {
      "text/plain": [
       "0.19859630988554172"
      ]
     },
     "execution_count": 38,
     "metadata": {},
     "output_type": "execute_result"
    }
   ],
   "source": [
    "lr = LinearRegression()\n",
    "pt = PowerTransformer(method='box-cox')\n",
    "X_transform = pt.fit_transform(X)\n",
    "\n",
    "np.mean(cross_val_score(lr, X_transform, y, scoring='r2'))"
   ]
  },
  {
   "cell_type": "code",
   "execution_count": 39,
   "id": "94378069",
   "metadata": {},
   "outputs": [
    {
     "data": {
      "image/png": "[encoded data removed]",
      "text/plain": [
       "<Figure size 1500x400 with 2 Axes>"
      ]
     },
     "metadata": {},
     "output_type": "display_data"
    },
    {
     "data": {
      "image/png": "[encoded data removed]",
      "text/plain": [
       "<Figure size 1500x400 with 2 Axes>"
      ]
     },
     "metadata": {},
     "output_type": "display_data"
    }
   ],
   "source": [
    "X_train_transformed = pd.DataFrame(X_train_transformed, columns= X_train.columns)\n",
    "for col1 in X_train_transformed.columns:\n",
    "    plt.figure(figsize=(15, 4))\n",
    "    plt.subplot(121)\n",
    "#     sns.displot(X_train[col])\n",
    "    stat.probplot(X_train[col], dist=\"norm\", plot=plt)\n",
    "    plt.title(col1)\n",
    "    \n",
    "    plt.subplot(122)\n",
    "    stat.probplot(X_train_transformed[col1], dist=\"norm\", plot=plt)\n",
    "    plt.show()"
   ]
  },
  {
   "cell_type": "markdown",
   "id": "31809b0b",
   "metadata": {},
   "source": [
    "## Power Transformation(method = \"Yeo-Johnson\")"
   ]
  },
  {
   "cell_type": "code",
   "execution_count": 43,
   "id": "9d121673",
   "metadata": {},
   "outputs": [
    {
     "data": {
      "text/html": [
       "<div>\n",
       "<style scoped>\n",
       "    .dataframe tbody tr th:only-of-type {\n",
       "        vertical-align: middle;\n",
       "    }\n",
       "\n",
       "    .dataframe tbody tr th {\n",
       "        vertical-align: top;\n",
       "    }\n",
       "\n",
       "    .dataframe thead th {\n",
       "        text-align: right;\n",
       "    }\n",
       "</style>\n",
       "<table border=\"1\" class=\"dataframe\">\n",
       "  <thead>\n",
       "    <tr style=\"text-align: right;\">\n",
       "      <th></th>\n",
       "      <th>col</th>\n",
       "      <th>Pt_yeo</th>\n",
       "    </tr>\n",
       "  </thead>\n",
       "  <tbody>\n",
       "    <tr>\n",
       "      <th>0</th>\n",
       "      <td>Pop2023</td>\n",
       "      <td>-0.748244</td>\n",
       "    </tr>\n",
       "    <tr>\n",
       "      <th>1</th>\n",
       "      <td>Pop2022</td>\n",
       "      <td>-0.743212</td>\n",
       "    </tr>\n",
       "  </tbody>\n",
       "</table>\n",
       "</div>"
      ],
      "text/plain": [
       "       col    Pt_yeo\n",
       "0  Pop2023 -0.748244\n",
       "1  Pop2022 -0.743212"
      ]
     },
     "execution_count": 43,
     "metadata": {},
     "output_type": "execute_result"
    }
   ],
   "source": [
    "pt_yeo = PowerTransformer()\n",
    "X_train_transformed1 = pt_yeo.fit_transform(X_train)\n",
    "X_test_transformed1 = pt_yeo.fit_transform(X_test)\n",
    "pd.DataFrame({'col':X_train.columns, 'Pt_yeo':pt_yeo.lambdas_})"
   ]
  },
  {
   "cell_type": "code",
   "execution_count": 44,
   "id": "db510ff5",
   "metadata": {},
   "outputs": [
    {
     "data": {
      "text/plain": [
       "0.9830637376624677"
      ]
     },
     "execution_count": 44,
     "metadata": {},
     "output_type": "execute_result"
    }
   ],
   "source": [
    "lr = LinearRegression()\n",
    "lr.fit(X_train_transformed1, y_train)\n",
    "y_pred_n = lr.predict(X_test_transformed1)\n",
    "r2score = r2_score(y_test, y_pred_n)\n",
    "r2score"
   ]
  },
  {
   "cell_type": "code",
   "execution_count": 45,
   "id": "a4a23b36",
   "metadata": {},
   "outputs": [
    {
     "data": {
      "text/plain": [
       "0.19858944293978892"
      ]
     },
     "execution_count": 45,
     "metadata": {},
     "output_type": "execute_result"
    }
   ],
   "source": [
    "lr = LinearRegression()\n",
    "pt_yeo = PowerTransformer()\n",
    "X_transformed = pt_yeo.fit_transform(X)\n",
    "np.mean(cross_val_score(lr, X_transformed,y, scoring='r2'))"
   ]
  },
  {
   "cell_type": "code",
   "execution_count": 46,
   "id": "5d76d069",
   "metadata": {},
   "outputs": [
    {
     "data": {
      "image/png": "[encoded data removed]",
      "text/plain": [
       "<Figure size 1500x500 with 3 Axes>"
      ]
     },
     "metadata": {},
     "output_type": "display_data"
    },
    {
     "data": {
      "image/png": "[encoded data removed]",
      "text/plain": [
       "<Figure size 1500x500 with 3 Axes>"
      ]
     },
     "metadata": {},
     "output_type": "display_data"
    }
   ],
   "source": [
    "X_train_transformed2 = pd.DataFrame(X_train_transformed1, columns= X_train.columns)\n",
    "for col3 in X_train_transformed2.columns:\n",
    "    plt.figure(figsize=(15, 5))\n",
    "    plt.subplot(141)\n",
    "    stat.probplot(X_train[col], dist=\"norm\", plot=plt)\n",
    "    plt.title(col)\n",
    "\n",
    "    plt.subplot(142)\n",
    "    stat.probplot(X_train_transformed2[col3], dist=\"norm\", plot=plt)\n",
    "    plt.title(col3)\n",
    "    \n",
    "    plt.subplot(143)\n",
    "    stat.probplot(X_train_transformed[col1], dist=\"norm\", plot=plt)\n",
    "    plt.show()\n",
    "    "
   ]
  },
  {
   "cell_type": "markdown",
   "id": "a428878f",
   "metadata": {},
   "source": [
    "## Functional Transformation (Log and Square )"
   ]
  },
  {
   "cell_type": "code",
   "execution_count": 47,
   "id": "917c2a5c",
   "metadata": {},
   "outputs": [],
   "source": [
    "# feature selection\n",
    "X = data.drop(columns=['City', 'Country', 'growthRate', 'Continent', 'rank',])\n",
    "y = data.iloc[:, -1]"
   ]
  },
  {
   "cell_type": "code",
   "execution_count": 48,
   "id": "e163bbfb",
   "metadata": {},
   "outputs": [],
   "source": [
    "# Dataset is spliting into the training and testing of the dataset\n",
    "X_train, X_test, y_train, y_test = train_test_split(X, y, test_size= 0.2, random_state= 100)"
   ]
  },
  {
   "cell_type": "code",
   "execution_count": 49,
   "id": "0930700f",
   "metadata": {},
   "outputs": [
    {
     "data": {
      "text/plain": [
       "0.4044303109182038"
      ]
     },
     "execution_count": 49,
     "metadata": {},
     "output_type": "execute_result"
    }
   ],
   "source": [
    "model = LinearRegression()\n",
    "model.fit(X_train, y_train)\n",
    "Y_pred = model.predict(X_test)\n",
    "r2s = r2_score(y_test, Y_pred)\n",
    "r2s"
   ]
  },
  {
   "cell_type": "code",
   "execution_count": 50,
   "id": "5669ad1c",
   "metadata": {},
   "outputs": [
    {
     "data": {
      "text/plain": [
       "-476.0465990505827"
      ]
     },
     "execution_count": 50,
     "metadata": {},
     "output_type": "execute_result"
    }
   ],
   "source": [
    "lr = LinearRegression()\n",
    "np.mean(cross_val_score(lr, X, y, scoring='r2'))"
   ]
  },
  {
   "cell_type": "code",
   "execution_count": 51,
   "id": "ae444e61",
   "metadata": {},
   "outputs": [
    {
     "data": {
      "image/png": "[encoded data removed]",
      "text/plain": [
       "<Figure size 1500x400 with 1 Axes>"
      ]
     },
     "metadata": {},
     "output_type": "display_data"
    },
    {
     "data": {
      "image/png": "[encoded data removed]",
      "text/plain": [
       "<Figure size 1500x400 with 1 Axes>"
      ]
     },
     "metadata": {},
     "output_type": "display_data"
    }
   ],
   "source": [
    "# QQ plot for the getting the direction of normal distribution\n",
    "for col in X_train.columns:\n",
    "    plt.figure(figsize=(15, 4))\n",
    "    plt.subplot(121)\n",
    "    stat.probplot(X_train[col], dist=\"norm\", plot=plt)\n",
    "    plt.title(col)\n",
    "    plt.show()"
   ]
  },
  {
   "cell_type": "code",
   "execution_count": 53,
   "id": "d7c3d39b",
   "metadata": {},
   "outputs": [],
   "source": [
    "#so the qq plot show the data graphs whcih denotes that the data is right skewed,\n",
    "#so we use logarathmic transformation\n",
    "log_t = FunctionTransformer(func=np.log1p)\n",
    "xtrain = log_t.fit_transform(X_train)\n",
    "xtest = log_t.fit_transform(X_test)"
   ]
  },
  {
   "cell_type": "code",
   "execution_count": 55,
   "id": "5932c0a0",
   "metadata": {},
   "outputs": [
    {
     "data": {
      "text/plain": [
       "0.8535585417018277"
      ]
     },
     "execution_count": 55,
     "metadata": {},
     "output_type": "execute_result"
    }
   ],
   "source": [
    "lr = LinearRegression()\n",
    "lr.fit(xtrain, y_train)\n",
    "preds = lr.predict(xtest)\n",
    "r2_log = r2_score(y_test, preds)\n",
    "r2_log"
   ]
  },
  {
   "cell_type": "code",
   "execution_count": 56,
   "id": "fedb73a4",
   "metadata": {},
   "outputs": [
    {
     "data": {
      "text/plain": [
       "-21.35355602131756"
      ]
     },
     "execution_count": 56,
     "metadata": {},
     "output_type": "execute_result"
    }
   ],
   "source": [
    "# CROSS-VALIDATION\n",
    "lr = LinearRegression()\n",
    "lt = FunctionTransformer(func = np.log1p)\n",
    "xtra = lt.fit_transform(X)\n",
    "croos = np.mean(cross_val_score(lr, xtra, y, scoring=\"r2\"))\n",
    "croos"
   ]
  },
  {
   "cell_type": "code",
   "execution_count": 58,
   "id": "2d274a4f",
   "metadata": {},
   "outputs": [
    {
     "data": {
      "image/png": "[encoded data removed]",
      "text/plain": [
       "<Figure size 1500x400 with 1 Axes>"
      ]
     },
     "metadata": {},
     "output_type": "display_data"
    },
    {
     "data": {
      "image/png": "[encoded data removed]",
      "text/plain": [
       "<Figure size 1500x400 with 1 Axes>"
      ]
     },
     "metadata": {},
     "output_type": "display_data"
    }
   ],
   "source": [
    "for col in xtrain.columns:\n",
    "    plt.figure(figsize=(15, 4))\n",
    "    plt.subplot(121)\n",
    "    stat.probplot(xtrain[col], dist=\"norm\", plot=plt)\n",
    "    plt.title(col)\n",
    "    plt.show()"
   ]
  },
  {
   "cell_type": "code",
   "execution_count": null,
   "id": "143f452d",
   "metadata": {},
   "outputs": [],
   "source": []
  }
 ],
 "metadata": {
  "kernelspec": {
   "display_name": "Python 3 (ipykernel)",
   "language": "python",
   "name": "python3"
  },
  "language_info": {
   "codemirror_mode": {
    "name": "ipython",
    "version": 3
   },
   "file_extension": ".py",
   "mimetype": "text/x-python",
   "name": "python",
   "nbconvert_exporter": "python",
   "pygments_lexer": "ipython3",
   "version": "3.11.3"
  },
  "varInspector": {
   "cols": {
    "lenName": 16,
    "lenType": 16,
    "lenVar": 40
   },
   "kernels_config": {
    "python": {
     "delete_cmd_postfix": "",
     "delete_cmd_prefix": "del ",
     "library": "var_list.py",
     "varRefreshCmd": "print(var_dic_list())"
    },
    "r": {
     "delete_cmd_postfix": ") ",
     "delete_cmd_prefix": "rm(",
     "library": "var_list.r",
     "varRefreshCmd": "cat(var_dic_list()) "
    }
   },
   "types_to_exclude": [
    "module",
    "function",
    "builtin_function_or_method",
    "instance",
    "_Feature"
   ],
   "window_display": false
  }
 },
 "nbformat": 4,
 "nbformat_minor": 5
}
